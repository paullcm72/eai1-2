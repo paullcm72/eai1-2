{
 "cells": [
  {
   "cell_type": "code",
   "execution_count": 29,
   "id": "387f044e",
   "metadata": {},
   "outputs": [
    {
     "name": "stdout",
     "output_type": "stream",
     "text": [
      "Requirement already satisfied: SpeechRecognition in /Users/admin/opt/anaconda3/lib/python3.9/site-packages (3.9.0)\n",
      "Requirement already satisfied: pyphen in /Users/admin/opt/anaconda3/lib/python3.9/site-packages (0.13.2)\n",
      "Requirement already satisfied: requests>=2.26.0 in /Users/admin/opt/anaconda3/lib/python3.9/site-packages (from SpeechRecognition) (2.27.1)\n",
      "Requirement already satisfied: charset-normalizer~=2.0.0 in /Users/admin/opt/anaconda3/lib/python3.9/site-packages (from requests>=2.26.0->SpeechRecognition) (2.0.4)\n",
      "Requirement already satisfied: idna<4,>=2.5 in /Users/admin/opt/anaconda3/lib/python3.9/site-packages (from requests>=2.26.0->SpeechRecognition) (3.3)\n",
      "Requirement already satisfied: certifi>=2017.4.17 in /Users/admin/opt/anaconda3/lib/python3.9/site-packages (from requests>=2.26.0->SpeechRecognition) (2021.10.8)\n",
      "Requirement already satisfied: urllib3<1.27,>=1.21.1 in /Users/admin/opt/anaconda3/lib/python3.9/site-packages (from requests>=2.26.0->SpeechRecognition) (1.26.9)\n",
      "Note: you may need to restart the kernel to use updated packages.\n"
     ]
    }
   ],
   "source": [
    "pip install SpeechRecognition pyphen"
   ]
  },
  {
   "cell_type": "code",
   "execution_count": 30,
   "id": "9a67bf68",
   "metadata": {},
   "outputs": [
    {
     "name": "stderr",
     "output_type": "stream",
     "text": [
      "[nltk_data] Downloading package punkt to /Users/admin/nltk_data...\n",
      "[nltk_data]   Package punkt is already up-to-date!\n"
     ]
    }
   ],
   "source": [
    "import speech_recognition as sr\n",
    "import nltk\n",
    "import pyphen\n",
    "nltk.download('punkt')\n",
    "# Load the audio file\n",
    "audio_file = sr.AudioFile('ptk_2.wav')"
   ]
  },
  {
   "cell_type": "code",
   "execution_count": 31,
   "id": "a92480a2",
   "metadata": {},
   "outputs": [
    {
     "name": "stdout",
     "output_type": "stream",
     "text": [
      "result2:\n",
      "{   'alternative': [   {   'confidence': 0.94295961,\n",
      "                           'transcript': 'papa papa papa'},\n",
      "                       {'transcript': 'buttercup Buttercup'},\n",
      "                       {'transcript': 'papa papa papa papa'},\n",
      "                       {'transcript': 'Peugeot Partner camper'},\n",
      "                       {'transcript': 'Peugeot Partner'}],\n",
      "    'final': True}\n"
     ]
    }
   ],
   "source": [
    "# Convert the audio file into text\n",
    "recognizer = sr.Recognizer()\n",
    "with audio_file as source:\n",
    "    audio = recognizer.record(source)\n",
    "text = recognizer.recognize_google(audio)"
   ]
  },
  {
   "cell_type": "code",
   "execution_count": 32,
   "id": "945c7611",
   "metadata": {},
   "outputs": [
    {
     "name": "stdout",
     "output_type": "stream",
     "text": [
      "There are 42 syllables.\n"
     ]
    }
   ],
   "source": [
    "# Count the number of syllables in each word\n",
    "dic = pyphen.Pyphen(lang='en_GB')\n",
    "syllables = [len(dic.inserted(text)) for word in words]\n",
    "\n",
    "# Count the total number of syllables\n",
    "total_syllables = sum(syllables)\n",
    "print('There are', total_syllables, 'syllables.')"
   ]
  }
 ],
 "metadata": {
  "kernelspec": {
   "display_name": "Python 3 (ipykernel)",
   "language": "python",
   "name": "python3"
  },
  "language_info": {
   "codemirror_mode": {
    "name": "ipython",
    "version": 3
   },
   "file_extension": ".py",
   "mimetype": "text/x-python",
   "name": "python",
   "nbconvert_exporter": "python",
   "pygments_lexer": "ipython3",
   "version": "3.9.12"
  }
 },
 "nbformat": 4,
 "nbformat_minor": 5
}
